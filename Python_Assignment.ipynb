{
  "nbformat": 4,
  "nbformat_minor": 0,
  "metadata": {
    "colab": {
      "provenance": [],
      "include_colab_link": true
    },
    "kernelspec": {
      "name": "python3",
      "display_name": "Python 3"
    },
    "language_info": {
      "name": "python"
    }
  },
  "cells": [
    {
      "cell_type": "markdown",
      "metadata": {
        "id": "view-in-github",
        "colab_type": "text"
      },
      "source": [
        "<a href=\"https://colab.research.google.com/github/Rohan300604/rohanassignment/blob/main/Python_Assignment.ipynb\" target=\"_parent\"><img src=\"https://colab.research.google.com/assets/colab-badge.svg\" alt=\"Open In Colab\"/></a>"
      ]
    },
    {
      "cell_type": "markdown",
      "source": [
        "1. Write a Python program which accepts the radius of a circle from the user\n",
        "and compute the area.Sample input: Enter the radius: 3\n",
        "Sample output: Area of Circle is 28.59999999999"
      ],
      "metadata": {
        "id": "9Sl_B6dmR-MW"
      }
    },
    {
      "cell_type": "code",
      "execution_count": null,
      "metadata": {
        "id": "bW9nSXCoR9cP"
      },
      "outputs": [],
      "source": [
        "import math\n",
        "radius = float(input(\"Enter the radius: \"))\n",
        "area = math.pi * radius ** 2\n",
        "print(f\"Area of Circle is {area}\")"
      ]
    },
    {
      "cell_type": "markdown",
      "source": [
        "2. Write a Python Program to accept the details of a student like name, roll\n",
        "number and mark and display it.Sample input: Enter the name: Anisha Enter the roll number: 21 Enter the mark: 78 Sample output: Name: Anisha Roll No: 21 Mark: 78\n"
      ],
      "metadata": {
        "id": "5LdYHJwETDYW"
      }
    },
    {
      "cell_type": "code",
      "source": [
        "name = input(\"Enter the name: \")\n",
        "roll_number = input(\"Enter the roll number: \")\n",
        "mark = input(\"Enter the mark: \")\n",
        "print(\"\\nStudent Details:\")\n",
        "print(\"Name:\",name)\n",
        "print(\"Roll No:\",roll_number)\n",
        "print(\"Mark:\",mark)"
      ],
      "metadata": {
        "id": "PuxgndoLTIwa"
      },
      "execution_count": null,
      "outputs": []
    },
    {
      "cell_type": "markdown",
      "source": [
        "3. Write a Python program to get the largest number from a list.\n",
        "Sample input: 12, 3, 47, 10\n",
        "Sample output: 47 is the largest number.\n"
      ],
      "metadata": {
        "id": "iok_jUDKU6eo"
      }
    },
    {
      "cell_type": "code",
      "source": [
        "numbers = input(\"Enter numbers separated by commas: \")\n",
        "numbers_list = [int(num.strip()) for num in numbers.split(',')]\n",
        "largest_number = max(numbers_list)\n",
        "print(largest_number,\" is the largest number.\")\n"
      ],
      "metadata": {
        "id": "GgtBX5lrWjU2"
      },
      "execution_count": null,
      "outputs": []
    },
    {
      "cell_type": "markdown",
      "source": [
        "4. Given a range of first 10 numbers, write a Python program to iterate from\n",
        "start number to the end number and print the sum of the current number\n",
        "and previous number.\n",
        "Sample input: 1….10\n",
        "Sample output: Current Number 1 Previous Number 0 Sum: 1 Current\n",
        "Number 2 Previous Number 1 Sum: 3 Current Number 3 Previous\n",
        "Number 2 Sum: 5… Current Number 10 Previous Number 9 Sum: 19\n"
      ],
      "metadata": {
        "id": "pEZMvBrgW0U-"
      }
    },
    {
      "cell_type": "code",
      "source": [
        "pre_num=0\n",
        "for i in range(1,11):\n",
        "    sum=pre_num+i\n",
        "    print(\"Current Number\",i,\"Previous Number\",pre_num,\"Sum:\",sum)\n",
        "    pre_num=i"
      ],
      "metadata": {
        "id": "Jy1esUPvW45L"
      },
      "execution_count": null,
      "outputs": []
    },
    {
      "cell_type": "markdown",
      "source": [
        "5. Write a Python program to print only those numbers which are divisible\n",
        "of 5.\n",
        "Sample input: 10, 20,33,46,55 Sample output: 10, 20, 55"
      ],
      "metadata": {
        "id": "X5QIppHjXLDn"
      }
    },
    {
      "cell_type": "code",
      "source": [
        "list1=[10,20,33,46,55]\n",
        "for i in list1:\n",
        "    if i%5==0:\n",
        "        print(i)\n"
      ],
      "metadata": {
        "id": "7RahUo27Xcay"
      },
      "execution_count": null,
      "outputs": []
    },
    {
      "cell_type": "markdown",
      "source": [
        "6. Write a Python program to check whether a number is prime or not.\n",
        "Sample input: Enter the number: 3\n",
        "Sample output: 3 is a prime number"
      ],
      "metadata": {
        "id": "2TBIVc8UX83g"
      }
    },
    {
      "cell_type": "code",
      "source": [
        "prime_num=int(input(\"Enter the number: \"))\n",
        "for i in range(2,prime_num):\n",
        "    if prime_num%i==0:\n",
        "        print(prime_num,\"is not a prime number.\")\n",
        "        break\n",
        "else:\n",
        "    print(prime_num,\"is a prime number.\")"
      ],
      "metadata": {
        "id": "2CSumzsEYFHg"
      },
      "execution_count": null,
      "outputs": []
    },
    {
      "cell_type": "markdown",
      "source": [
        "7. Write a Python program to reverse a list using for loop.\n",
        "Sample input: 10,40,30,70\n",
        "Sample output: 70,30,40,10"
      ],
      "metadata": {
        "id": "lPK0R7vbYUxK"
      }
    },
    {
      "cell_type": "code",
      "source": [
        "rev_num=[10,40,30,70]\n",
        "rev_num.reverse()\n",
        "print(rev_num)"
      ],
      "metadata": {
        "id": "gAYU9tq6YWnH"
      },
      "execution_count": null,
      "outputs": []
    },
    {
      "cell_type": "markdown",
      "source": [
        "8. Write a Python program to print the following pattern.\n",
        "*\n",
        "**\n",
        "***\n",
        "****"
      ],
      "metadata": {
        "id": "vkQC0-Z_ZCwx"
      }
    },
    {
      "cell_type": "code",
      "source": [
        "for i in range(1,5):\n",
        "    print(\"*\"*i)"
      ],
      "metadata": {
        "id": "sxaciBnlZIro"
      },
      "execution_count": null,
      "outputs": []
    },
    {
      "cell_type": "markdown",
      "source": [
        "9. Write a Python program to find the maximum of three numbers\n",
        "Sample input: 34,12,7\n",
        "Sample output: 34"
      ],
      "metadata": {
        "id": "oX9FmyjyZPIT"
      }
    },
    {
      "cell_type": "code",
      "source": [
        "a=(34,12,7)\n",
        "print(max(a))"
      ],
      "metadata": {
        "id": "-YqwKLYqZVX6"
      },
      "execution_count": null,
      "outputs": []
    },
    {
      "cell_type": "markdown",
      "source": [
        "10. Write a Python program to construct the following pattern, using a\n",
        "nested for loop.\n",
        "*\n",
        "**\n",
        "***\n",
        "****\n",
        "*****\n",
        "****\n",
        "***\n",
        "**\n",
        "*"
      ],
      "metadata": {
        "id": "bmyCJdswZgCL"
      }
    },
    {
      "cell_type": "code",
      "source": [
        "for i in range(1,6):\n",
        "    print(\"*\"*i)\n",
        "for i in range(4,0,-1):\n",
        "    print(\"*\"*i)"
      ],
      "metadata": {
        "id": "_xm3--bjZlO6"
      },
      "execution_count": null,
      "outputs": []
    },
    {
      "cell_type": "markdown",
      "source": [
        "**PART 2**"
      ],
      "metadata": {
        "id": "I8ah-TPIaAgj"
      }
    },
    {
      "cell_type": "markdown",
      "source": [
        "1.Write a Python program to accept a string value from the user and display the count of each character in that string. Sample input: Enter a string value: assembly Sample output: a=1, s=2, e=1, m=1, b=1, l=1, y=1"
      ],
      "metadata": {
        "id": "oniYn1OQZ0Wn"
      }
    },
    {
      "cell_type": "code",
      "source": [
        "a=input(\"Enter a string value: \")\n",
        "count={}\n",
        "for i in a:\n",
        "    if i in count:\n",
        "        count[i]+=1\n",
        "    else:\n",
        "        count[i]=1\n",
        "for i,j in count.items():\n",
        "    print(i,\"=\",j)"
      ],
      "metadata": {
        "id": "vj4p2yzpZ_Ui"
      },
      "execution_count": null,
      "outputs": []
    },
    {
      "cell_type": "markdown",
      "source": [
        "2.Write a Python function to find the maximum of three numbers Sample input: 34,12,7 Sample output: 34"
      ],
      "metadata": {
        "id": "4aTpRSRJafvO"
      }
    },
    {
      "cell_type": "code",
      "source": [
        "a=(51,9,36)\n",
        "print(\"The maximum of three number is \",max(a))"
      ],
      "metadata": {
        "id": "tWmOyE4hak6U"
      },
      "execution_count": null,
      "outputs": []
    },
    {
      "cell_type": "markdown",
      "source": [
        "3.Write a Python function called exponent(base,exp) that returns an integer value of base raises to the power of exp. Sample input: Enter the base: 2 Enter the exponent: 3 Sample output: 8"
      ],
      "metadata": {
        "id": "d5hEFgFAcmSV"
      }
    },
    {
      "cell_type": "code",
      "source": [
        "base=int(input(\"Enter the base: \"))\n",
        "exp=int(input(\"Enter the exponent: \"))\n",
        "def exponent(base,exp):\n",
        "    return base**exp\n",
        "print(exponent(base,exp))"
      ],
      "metadata": {
        "id": "86t7nLOOfBgQ"
      },
      "execution_count": null,
      "outputs": []
    },
    {
      "cell_type": "markdown",
      "source": [
        "4.Write a Python function that takes a positive integer and returns the sum of the cube of all the positive integers smaller than the specified number. Sample input: 4 Sample output: 36"
      ],
      "metadata": {
        "id": "mK94s5slfGsw"
      }
    },
    {
      "cell_type": "code",
      "source": [
        "def sum_of_cubes(n):\n",
        "  sum = 0\n",
        "  for i in range(1, n):\n",
        "    sum += i**3\n",
        "  return sum\n",
        "n = int(input(\"Enter a positive integer: \"))\n",
        "result = sum_of_cubes(n)\n",
        "print(\"The sum of cubes of numbers smaller than\",n,\"is:\",result)\n"
      ],
      "metadata": {
        "id": "zB8KUZDafWv5"
      },
      "execution_count": null,
      "outputs": []
    },
    {
      "cell_type": "markdown",
      "source": [
        "5. Write a Python program which iterates from 1 to 10. For multiples of 2, print “Fizz” instead of the number and for the multiples of 5, print “Buzz”. For numbers which are multiples of both 2 and 5, print “FizzBuzz”. Sample input: numbers from 1 to 10 Sample output: 1 Fizz 3 Fizz Buzz Fizz 7 Fizz 9 FizzBuzz"
      ],
      "metadata": {
        "id": "IGaJvL7ngvBn"
      }
    },
    {
      "cell_type": "code",
      "source": [
        "for i in range(1,11):\n",
        "    if i%2==0 and i%5==0:\n",
        "        print(\"FizzBuzz\")\n",
        "    elif i%2==0:\n",
        "        print(\"Fizz\")\n",
        "    elif i%5==0:\n",
        "        print(\"Buzz\")\n",
        "    else:\n",
        "        print(i)"
      ],
      "metadata": {
        "id": "Phfvu9n_ibJi"
      },
      "execution_count": null,
      "outputs": []
    },
    {
      "cell_type": "markdown",
      "source": [
        "6.Write a Python program to find the most frequent item in a list of numbers. Sample input: 2, 3, 4, 2, 5, 2 Sample output: 2"
      ],
      "metadata": {
        "id": "K9R2h7dE3nhy"
      }
    },
    {
      "cell_type": "code",
      "source": [
        "a=[2,3,4,2,5,2]\n",
        "print(\"The most frequent item is: \",max(a,key=a.count))"
      ],
      "metadata": {
        "id": "MfLYDzHg3zDz"
      },
      "execution_count": null,
      "outputs": []
    },
    {
      "cell_type": "markdown",
      "source": [
        "7.Write a Python program to find the sum of squares of the numbers in a list. Sample input: 2,1,3,1 Sample output: 15\n"
      ],
      "metadata": {
        "id": "dH3tMWYi358y"
      }
    },
    {
      "cell_type": "code",
      "source": [
        "l1 = [2, 1, 3, 1]\n",
        "sum_of_squares = 0\n",
        "for num in l1:\n",
        "    sum_of_squares += num ** 2\n",
        "print(sum_of_squares)"
      ],
      "metadata": {
        "id": "XyVpQQtH3_bQ"
      },
      "execution_count": null,
      "outputs": []
    },
    {
      "cell_type": "markdown",
      "source": [
        "8.Write a Python program using for loop that will iterate from 1 to 15. For each iteration, check if the current number is odd or even, and display the message to the screen as odd or even. Sample input: 1….15 Sample output: 1-odd 2-even …. 15-odd"
      ],
      "metadata": {
        "id": "5b9H1Vl-6lbd"
      }
    },
    {
      "cell_type": "code",
      "source": [
        "for i in range(1,16):\n",
        "    if i%2==0:\n",
        "        print(i,\"-even\")\n",
        "    else:\n",
        "        print(i,\"-odd\")"
      ],
      "metadata": {
        "id": "PP3Q_xUr8477"
      },
      "execution_count": null,
      "outputs": []
    },
    {
      "cell_type": "markdown",
      "source": [
        "9.Write a Python program to convert temperatures to and from Celsius Fahrenheit. [Formula: c/5=f-32/9 where c=temperature in Celsius and f= temperature in Fahrenheit.] Sample input: Temperature in Fahrenheit =41 Sample output: Temperature in Celsius =5\n"
      ],
      "metadata": {
        "id": "BnqWokDy9NEm"
      }
    },
    {
      "cell_type": "code",
      "source": [
        "f=int(input(\"Temperature in Fahrenheit =\"))\n",
        "c=(f-32)*5/9\n",
        "print(\"Temperature in Celsius =\",int(c))\n"
      ],
      "metadata": {
        "id": "YN6Sbk4a9QdO"
      },
      "execution_count": null,
      "outputs": []
    },
    {
      "cell_type": "markdown",
      "source": [
        "10.Write a Python function to calculate the factorial of a number (a nonnegative integer). The function accepts the number as an argument. Sample input: 3 Sample output: 6"
      ],
      "metadata": {
        "id": "hkpQo5RqNmn_"
      }
    },
    {
      "cell_type": "code",
      "source": [
        "fact=int(input(\"Enter the number: \"))\n",
        "def factorial(fact):\n",
        "    if fact==0:\n",
        "        return 1\n",
        "    else:\n",
        "        return fact*factorial(fact-1)\n",
        "print(factorial(fact))"
      ],
      "metadata": {
        "id": "RFMshwstNu50"
      },
      "execution_count": null,
      "outputs": []
    }
  ]
}